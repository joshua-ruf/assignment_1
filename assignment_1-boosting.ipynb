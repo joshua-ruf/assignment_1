{
 "cells": [
  {
   "cell_type": "code",
   "execution_count": 8,
   "id": "df66261f",
   "metadata": {},
   "outputs": [],
   "source": [
    "import pandas as pd\n",
    "import numpy as np\n",
    "import matplotlib.pyplot as plt\n",
    "import seaborn as sns\n",
    "\n",
    "from sklearn.model_selection import train_test_split, RandomizedSearchCV, StratifiedKFold\n",
    "from sklearn.ensemble import GradientBoostingClassifier\n",
    "from sklearn.preprocessing import MinMaxScaler\n",
    "from sklearn.decomposition import PCA\n",
    "from sklearn.metrics import confusion_matrix, plot_roc_curve\n",
    "\n",
    "from prep_data import load_data, apply_pca\n"
   ]
  },
  {
   "cell_type": "code",
   "execution_count": 9,
   "id": "dc42871e",
   "metadata": {},
   "outputs": [],
   "source": [
    "X, y = load_data()"
   ]
  },
  {
   "cell_type": "code",
   "execution_count": null,
   "id": "327fcac8",
   "metadata": {},
   "outputs": [],
   "source": []
  },
  {
   "cell_type": "code",
   "execution_count": 10,
   "id": "44be28f2",
   "metadata": {},
   "outputs": [],
   "source": [
    "cols = X.columns.str.contains('strengths|weakness|compared_to_others')\n",
    "X_with_pca = apply_pca(X, cols, 0.75)\n",
    "\n",
    "X_train, X_test, y_train, y_test = train_test_split(X, y, random_state=0, test_size=0.2, stratify=y)\n"
   ]
  },
  {
   "cell_type": "code",
   "execution_count": 11,
   "id": "483e3da9",
   "metadata": {},
   "outputs": [],
   "source": [
    "#####################\n",
    "### BOOSTING TREE ###\n",
    "#####################"
   ]
  },
  {
   "cell_type": "code",
   "execution_count": 12,
   "id": "e59363be",
   "metadata": {},
   "outputs": [
    {
     "data": {
      "text/plain": [
       "0.90963030579644"
      ]
     },
     "execution_count": 12,
     "metadata": {},
     "output_type": "execute_result"
    }
   ],
   "source": [
    "# https://scikit-learn.org/stable/modules/generated/sklearn.ensemble.GradientBoostingClassifier.html\n",
    "clf = GradientBoostingClassifier(random_state=0)\n",
    "clf.fit(X_train, y_train)\n",
    "\n",
    "clf.score(X_train, y_train)"
   ]
  },
  {
   "cell_type": "code",
   "execution_count": null,
   "id": "051ff9b6",
   "metadata": {},
   "outputs": [],
   "source": []
  },
  {
   "cell_type": "code",
   "execution_count": 13,
   "id": "bcc8d2ed",
   "metadata": {},
   "outputs": [
    {
     "data": {
      "text/html": [
       "<style>#sk-container-id-1 {color: black;background-color: white;}#sk-container-id-1 pre{padding: 0;}#sk-container-id-1 div.sk-toggleable {background-color: white;}#sk-container-id-1 label.sk-toggleable__label {cursor: pointer;display: block;width: 100%;margin-bottom: 0;padding: 0.3em;box-sizing: border-box;text-align: center;}#sk-container-id-1 label.sk-toggleable__label-arrow:before {content: \"▸\";float: left;margin-right: 0.25em;color: #696969;}#sk-container-id-1 label.sk-toggleable__label-arrow:hover:before {color: black;}#sk-container-id-1 div.sk-estimator:hover label.sk-toggleable__label-arrow:before {color: black;}#sk-container-id-1 div.sk-toggleable__content {max-height: 0;max-width: 0;overflow: hidden;text-align: left;background-color: #f0f8ff;}#sk-container-id-1 div.sk-toggleable__content pre {margin: 0.2em;color: black;border-radius: 0.25em;background-color: #f0f8ff;}#sk-container-id-1 input.sk-toggleable__control:checked~div.sk-toggleable__content {max-height: 200px;max-width: 100%;overflow: auto;}#sk-container-id-1 input.sk-toggleable__control:checked~label.sk-toggleable__label-arrow:before {content: \"▾\";}#sk-container-id-1 div.sk-estimator input.sk-toggleable__control:checked~label.sk-toggleable__label {background-color: #d4ebff;}#sk-container-id-1 div.sk-label input.sk-toggleable__control:checked~label.sk-toggleable__label {background-color: #d4ebff;}#sk-container-id-1 input.sk-hidden--visually {border: 0;clip: rect(1px 1px 1px 1px);clip: rect(1px, 1px, 1px, 1px);height: 1px;margin: -1px;overflow: hidden;padding: 0;position: absolute;width: 1px;}#sk-container-id-1 div.sk-estimator {font-family: monospace;background-color: #f0f8ff;border: 1px dotted black;border-radius: 0.25em;box-sizing: border-box;margin-bottom: 0.5em;}#sk-container-id-1 div.sk-estimator:hover {background-color: #d4ebff;}#sk-container-id-1 div.sk-parallel-item::after {content: \"\";width: 100%;border-bottom: 1px solid gray;flex-grow: 1;}#sk-container-id-1 div.sk-label:hover label.sk-toggleable__label {background-color: #d4ebff;}#sk-container-id-1 div.sk-serial::before {content: \"\";position: absolute;border-left: 1px solid gray;box-sizing: border-box;top: 0;bottom: 0;left: 50%;z-index: 0;}#sk-container-id-1 div.sk-serial {display: flex;flex-direction: column;align-items: center;background-color: white;padding-right: 0.2em;padding-left: 0.2em;position: relative;}#sk-container-id-1 div.sk-item {position: relative;z-index: 1;}#sk-container-id-1 div.sk-parallel {display: flex;align-items: stretch;justify-content: center;background-color: white;position: relative;}#sk-container-id-1 div.sk-item::before, #sk-container-id-1 div.sk-parallel-item::before {content: \"\";position: absolute;border-left: 1px solid gray;box-sizing: border-box;top: 0;bottom: 0;left: 50%;z-index: -1;}#sk-container-id-1 div.sk-parallel-item {display: flex;flex-direction: column;z-index: 1;position: relative;background-color: white;}#sk-container-id-1 div.sk-parallel-item:first-child::after {align-self: flex-end;width: 50%;}#sk-container-id-1 div.sk-parallel-item:last-child::after {align-self: flex-start;width: 50%;}#sk-container-id-1 div.sk-parallel-item:only-child::after {width: 0;}#sk-container-id-1 div.sk-dashed-wrapped {border: 1px dashed gray;margin: 0 0.4em 0.5em 0.4em;box-sizing: border-box;padding-bottom: 0.4em;background-color: white;}#sk-container-id-1 div.sk-label label {font-family: monospace;font-weight: bold;display: inline-block;line-height: 1.2em;}#sk-container-id-1 div.sk-label-container {text-align: center;}#sk-container-id-1 div.sk-container {/* jupyter's `normalize.less` sets `[hidden] { display: none; }` but bootstrap.min.css set `[hidden] { display: none !important; }` so we also need the `!important` here to be able to override the default hidden behavior on the sphinx rendered scikit-learn.org. See: https://github.com/scikit-learn/scikit-learn/issues/21755 */display: inline-block !important;position: relative;}#sk-container-id-1 div.sk-text-repr-fallback {display: none;}</style><div id=\"sk-container-id-1\" class=\"sk-top-container\"><div class=\"sk-text-repr-fallback\"><pre>RandomizedSearchCV(cv=StratifiedKFold(n_splits=5, random_state=None, shuffle=False),\n",
       "                   estimator=GradientBoostingClassifier(random_state=0),\n",
       "                   n_iter=200, n_jobs=-1,\n",
       "                   param_distributions={&#x27;ccp_alpha&#x27;: array([0.  , 0.01, 0.02, 0.03, 0.04]),\n",
       "                                        &#x27;loss&#x27;: (&#x27;log_loss&#x27;, &#x27;exponential&#x27;),\n",
       "                                        &#x27;max_depth&#x27;: array([1, 2, 3, 4, 5]),\n",
       "                                        &#x27;min_samples_leaf&#x27;: array([1, 2, 3, 4]),\n",
       "                                        &#x27;min_samples_split&#x27;: array([2, 3, 4, 5, 6, 7, 8, 9]),\n",
       "                                        &#x27;n_estimators&#x27;: array([ 100,  200,  300,  400,  500,  600,  700,  800,  900, 1000]),\n",
       "                                        &#x27;subsample&#x27;: array([0.7, 0.8, 0.9, 1. ])},\n",
       "                   scoring=&#x27;roc_auc&#x27;)</pre><b>In a Jupyter environment, please rerun this cell to show the HTML representation or trust the notebook. <br />On GitHub, the HTML representation is unable to render, please try loading this page with nbviewer.org.</b></div><div class=\"sk-container\" hidden><div class=\"sk-item sk-dashed-wrapped\"><div class=\"sk-label-container\"><div class=\"sk-label sk-toggleable\"><input class=\"sk-toggleable__control sk-hidden--visually\" id=\"sk-estimator-id-1\" type=\"checkbox\" ><label for=\"sk-estimator-id-1\" class=\"sk-toggleable__label sk-toggleable__label-arrow\">RandomizedSearchCV</label><div class=\"sk-toggleable__content\"><pre>RandomizedSearchCV(cv=StratifiedKFold(n_splits=5, random_state=None, shuffle=False),\n",
       "                   estimator=GradientBoostingClassifier(random_state=0),\n",
       "                   n_iter=200, n_jobs=-1,\n",
       "                   param_distributions={&#x27;ccp_alpha&#x27;: array([0.  , 0.01, 0.02, 0.03, 0.04]),\n",
       "                                        &#x27;loss&#x27;: (&#x27;log_loss&#x27;, &#x27;exponential&#x27;),\n",
       "                                        &#x27;max_depth&#x27;: array([1, 2, 3, 4, 5]),\n",
       "                                        &#x27;min_samples_leaf&#x27;: array([1, 2, 3, 4]),\n",
       "                                        &#x27;min_samples_split&#x27;: array([2, 3, 4, 5, 6, 7, 8, 9]),\n",
       "                                        &#x27;n_estimators&#x27;: array([ 100,  200,  300,  400,  500,  600,  700,  800,  900, 1000]),\n",
       "                                        &#x27;subsample&#x27;: array([0.7, 0.8, 0.9, 1. ])},\n",
       "                   scoring=&#x27;roc_auc&#x27;)</pre></div></div></div><div class=\"sk-parallel\"><div class=\"sk-parallel-item\"><div class=\"sk-item\"><div class=\"sk-label-container\"><div class=\"sk-label sk-toggleable\"><input class=\"sk-toggleable__control sk-hidden--visually\" id=\"sk-estimator-id-2\" type=\"checkbox\" ><label for=\"sk-estimator-id-2\" class=\"sk-toggleable__label sk-toggleable__label-arrow\">estimator: GradientBoostingClassifier</label><div class=\"sk-toggleable__content\"><pre>GradientBoostingClassifier(random_state=0)</pre></div></div></div><div class=\"sk-serial\"><div class=\"sk-item\"><div class=\"sk-estimator sk-toggleable\"><input class=\"sk-toggleable__control sk-hidden--visually\" id=\"sk-estimator-id-3\" type=\"checkbox\" ><label for=\"sk-estimator-id-3\" class=\"sk-toggleable__label sk-toggleable__label-arrow\">GradientBoostingClassifier</label><div class=\"sk-toggleable__content\"><pre>GradientBoostingClassifier(random_state=0)</pre></div></div></div></div></div></div></div></div></div></div>"
      ],
      "text/plain": [
       "RandomizedSearchCV(cv=StratifiedKFold(n_splits=5, random_state=None, shuffle=False),\n",
       "                   estimator=GradientBoostingClassifier(random_state=0),\n",
       "                   n_iter=200, n_jobs=-1,\n",
       "                   param_distributions={'ccp_alpha': array([0.  , 0.01, 0.02, 0.03, 0.04]),\n",
       "                                        'loss': ('log_loss', 'exponential'),\n",
       "                                        'max_depth': array([1, 2, 3, 4, 5]),\n",
       "                                        'min_samples_leaf': array([1, 2, 3, 4]),\n",
       "                                        'min_samples_split': array([2, 3, 4, 5, 6, 7, 8, 9]),\n",
       "                                        'n_estimators': array([ 100,  200,  300,  400,  500,  600,  700,  800,  900, 1000]),\n",
       "                                        'subsample': array([0.7, 0.8, 0.9, 1. ])},\n",
       "                   scoring='roc_auc')"
      ]
     },
     "execution_count": 13,
     "metadata": {},
     "output_type": "execute_result"
    }
   ],
   "source": [
    "parameters = {\n",
    "    'loss': ('log_loss', 'exponential'),\n",
    "#     'learning_rate': np.arange(0.05, 0.31, 0.05),\n",
    "    'subsample': np.arange(0.7, 1.01, 0.1),\n",
    "    'n_estimators': np.arange(100, 1001, 100),\n",
    "    'ccp_alpha': np.arange(0, 0.05, 0.01),\n",
    "    'max_depth': np.arange(1, 6, 1),\n",
    "    'min_samples_split': np.arange(2, 10, 1),\n",
    "    'min_samples_leaf': np.arange(1, 5, 1),\n",
    "}\n",
    "\n",
    "clf = GradientBoostingClassifier(random_state=0)\n",
    "cv = RandomizedSearchCV(clf, parameters, n_iter=200, verbose=1, n_jobs=-1, scoring='roc_auc')\n",
    "cv.fit(X_train, y_train)\n"
   ]
  },
  {
   "cell_type": "code",
   "execution_count": 14,
   "id": "487df54d",
   "metadata": {},
   "outputs": [
    {
     "data": {
      "text/html": [
       "<div>\n",
       "<style scoped>\n",
       "    .dataframe tbody tr th:only-of-type {\n",
       "        vertical-align: middle;\n",
       "    }\n",
       "\n",
       "    .dataframe tbody tr th {\n",
       "        vertical-align: top;\n",
       "    }\n",
       "\n",
       "    .dataframe thead th {\n",
       "        text-align: right;\n",
       "    }\n",
       "</style>\n",
       "<table border=\"1\" class=\"dataframe\">\n",
       "  <thead>\n",
       "    <tr style=\"text-align: right;\">\n",
       "      <th></th>\n",
       "      <th>mean_fit_time</th>\n",
       "      <th>std_fit_time</th>\n",
       "      <th>mean_score_time</th>\n",
       "      <th>std_score_time</th>\n",
       "      <th>param_subsample</th>\n",
       "      <th>param_n_estimators</th>\n",
       "      <th>param_min_samples_split</th>\n",
       "      <th>param_min_samples_leaf</th>\n",
       "      <th>param_max_depth</th>\n",
       "      <th>param_loss</th>\n",
       "      <th>param_ccp_alpha</th>\n",
       "      <th>params</th>\n",
       "      <th>split0_test_score</th>\n",
       "      <th>split1_test_score</th>\n",
       "      <th>split2_test_score</th>\n",
       "      <th>split3_test_score</th>\n",
       "      <th>split4_test_score</th>\n",
       "      <th>mean_test_score</th>\n",
       "      <th>std_test_score</th>\n",
       "      <th>rank_test_score</th>\n",
       "    </tr>\n",
       "  </thead>\n",
       "  <tbody>\n",
       "    <tr>\n",
       "      <th>141</th>\n",
       "      <td>0.483559</td>\n",
       "      <td>0.007527</td>\n",
       "      <td>0.003041</td>\n",
       "      <td>0.000983</td>\n",
       "      <td>0.8</td>\n",
       "      <td>300</td>\n",
       "      <td>9</td>\n",
       "      <td>3</td>\n",
       "      <td>1</td>\n",
       "      <td>log_loss</td>\n",
       "      <td>0.0</td>\n",
       "      <td>{'subsample': 0.7999999999999999, 'n_estimator...</td>\n",
       "      <td>0.732562</td>\n",
       "      <td>0.691906</td>\n",
       "      <td>0.659008</td>\n",
       "      <td>0.666745</td>\n",
       "      <td>0.697130</td>\n",
       "      <td>0.689470</td>\n",
       "      <td>0.025946</td>\n",
       "      <td>1</td>\n",
       "    </tr>\n",
       "    <tr>\n",
       "      <th>171</th>\n",
       "      <td>0.259781</td>\n",
       "      <td>0.008304</td>\n",
       "      <td>0.002534</td>\n",
       "      <td>0.000820</td>\n",
       "      <td>0.7</td>\n",
       "      <td>100</td>\n",
       "      <td>4</td>\n",
       "      <td>1</td>\n",
       "      <td>2</td>\n",
       "      <td>exponential</td>\n",
       "      <td>0.0</td>\n",
       "      <td>{'subsample': 0.7, 'n_estimators': 100, 'min_s...</td>\n",
       "      <td>0.719275</td>\n",
       "      <td>0.694802</td>\n",
       "      <td>0.670259</td>\n",
       "      <td>0.682779</td>\n",
       "      <td>0.666932</td>\n",
       "      <td>0.686809</td>\n",
       "      <td>0.018990</td>\n",
       "      <td>2</td>\n",
       "    </tr>\n",
       "    <tr>\n",
       "      <th>76</th>\n",
       "      <td>0.319201</td>\n",
       "      <td>0.009497</td>\n",
       "      <td>0.002839</td>\n",
       "      <td>0.001371</td>\n",
       "      <td>0.8</td>\n",
       "      <td>200</td>\n",
       "      <td>3</td>\n",
       "      <td>3</td>\n",
       "      <td>1</td>\n",
       "      <td>exponential</td>\n",
       "      <td>0.0</td>\n",
       "      <td>{'subsample': 0.7999999999999999, 'n_estimator...</td>\n",
       "      <td>0.710229</td>\n",
       "      <td>0.708189</td>\n",
       "      <td>0.657916</td>\n",
       "      <td>0.659639</td>\n",
       "      <td>0.696382</td>\n",
       "      <td>0.686471</td>\n",
       "      <td>0.023107</td>\n",
       "      <td>3</td>\n",
       "    </tr>\n",
       "    <tr>\n",
       "      <th>23</th>\n",
       "      <td>0.217376</td>\n",
       "      <td>0.005669</td>\n",
       "      <td>0.004424</td>\n",
       "      <td>0.001768</td>\n",
       "      <td>0.8</td>\n",
       "      <td>100</td>\n",
       "      <td>6</td>\n",
       "      <td>3</td>\n",
       "      <td>2</td>\n",
       "      <td>log_loss</td>\n",
       "      <td>0.0</td>\n",
       "      <td>{'subsample': 0.7999999999999999, 'n_estimator...</td>\n",
       "      <td>0.719927</td>\n",
       "      <td>0.689912</td>\n",
       "      <td>0.667458</td>\n",
       "      <td>0.680909</td>\n",
       "      <td>0.671793</td>\n",
       "      <td>0.686000</td>\n",
       "      <td>0.018644</td>\n",
       "      <td>4</td>\n",
       "    </tr>\n",
       "    <tr>\n",
       "      <th>66</th>\n",
       "      <td>1.416708</td>\n",
       "      <td>0.026216</td>\n",
       "      <td>0.003266</td>\n",
       "      <td>0.000058</td>\n",
       "      <td>1.0</td>\n",
       "      <td>900</td>\n",
       "      <td>3</td>\n",
       "      <td>1</td>\n",
       "      <td>1</td>\n",
       "      <td>log_loss</td>\n",
       "      <td>0.0</td>\n",
       "      <td>{'subsample': 0.9999999999999999, 'n_estimator...</td>\n",
       "      <td>0.705287</td>\n",
       "      <td>0.700973</td>\n",
       "      <td>0.671825</td>\n",
       "      <td>0.661042</td>\n",
       "      <td>0.688295</td>\n",
       "      <td>0.685484</td>\n",
       "      <td>0.016876</td>\n",
       "      <td>5</td>\n",
       "    </tr>\n",
       "    <tr>\n",
       "      <th>...</th>\n",
       "      <td>...</td>\n",
       "      <td>...</td>\n",
       "      <td>...</td>\n",
       "      <td>...</td>\n",
       "      <td>...</td>\n",
       "      <td>...</td>\n",
       "      <td>...</td>\n",
       "      <td>...</td>\n",
       "      <td>...</td>\n",
       "      <td>...</td>\n",
       "      <td>...</td>\n",
       "      <td>...</td>\n",
       "      <td>...</td>\n",
       "      <td>...</td>\n",
       "      <td>...</td>\n",
       "      <td>...</td>\n",
       "      <td>...</td>\n",
       "      <td>...</td>\n",
       "      <td>...</td>\n",
       "      <td>...</td>\n",
       "    </tr>\n",
       "    <tr>\n",
       "      <th>117</th>\n",
       "      <td>2.750643</td>\n",
       "      <td>0.032318</td>\n",
       "      <td>0.002594</td>\n",
       "      <td>0.000586</td>\n",
       "      <td>1.0</td>\n",
       "      <td>900</td>\n",
       "      <td>9</td>\n",
       "      <td>3</td>\n",
       "      <td>2</td>\n",
       "      <td>log_loss</td>\n",
       "      <td>0.01</td>\n",
       "      <td>{'subsample': 0.9999999999999999, 'n_estimator...</td>\n",
       "      <td>0.500000</td>\n",
       "      <td>0.500000</td>\n",
       "      <td>0.500000</td>\n",
       "      <td>0.500000</td>\n",
       "      <td>0.500000</td>\n",
       "      <td>0.500000</td>\n",
       "      <td>0.000000</td>\n",
       "      <td>110</td>\n",
       "    </tr>\n",
       "    <tr>\n",
       "      <th>115</th>\n",
       "      <td>1.461004</td>\n",
       "      <td>0.030396</td>\n",
       "      <td>0.002317</td>\n",
       "      <td>0.000897</td>\n",
       "      <td>1.0</td>\n",
       "      <td>200</td>\n",
       "      <td>2</td>\n",
       "      <td>4</td>\n",
       "      <td>5</td>\n",
       "      <td>log_loss</td>\n",
       "      <td>0.04</td>\n",
       "      <td>{'subsample': 0.9999999999999999, 'n_estimator...</td>\n",
       "      <td>0.500000</td>\n",
       "      <td>0.500000</td>\n",
       "      <td>0.500000</td>\n",
       "      <td>0.500000</td>\n",
       "      <td>0.500000</td>\n",
       "      <td>0.500000</td>\n",
       "      <td>0.000000</td>\n",
       "      <td>110</td>\n",
       "    </tr>\n",
       "    <tr>\n",
       "      <th>25</th>\n",
       "      <td>1.743611</td>\n",
       "      <td>0.051331</td>\n",
       "      <td>0.003645</td>\n",
       "      <td>0.003131</td>\n",
       "      <td>0.7</td>\n",
       "      <td>400</td>\n",
       "      <td>4</td>\n",
       "      <td>3</td>\n",
       "      <td>5</td>\n",
       "      <td>log_loss</td>\n",
       "      <td>0.02</td>\n",
       "      <td>{'subsample': 0.7, 'n_estimators': 400, 'min_s...</td>\n",
       "      <td>0.500000</td>\n",
       "      <td>0.500000</td>\n",
       "      <td>0.500000</td>\n",
       "      <td>0.500000</td>\n",
       "      <td>0.500000</td>\n",
       "      <td>0.500000</td>\n",
       "      <td>0.000000</td>\n",
       "      <td>110</td>\n",
       "    </tr>\n",
       "    <tr>\n",
       "      <th>57</th>\n",
       "      <td>2.047708</td>\n",
       "      <td>0.017836</td>\n",
       "      <td>0.002278</td>\n",
       "      <td>0.001080</td>\n",
       "      <td>0.9</td>\n",
       "      <td>800</td>\n",
       "      <td>8</td>\n",
       "      <td>2</td>\n",
       "      <td>2</td>\n",
       "      <td>log_loss</td>\n",
       "      <td>0.02</td>\n",
       "      <td>{'subsample': 0.8999999999999999, 'n_estimator...</td>\n",
       "      <td>0.500000</td>\n",
       "      <td>0.500000</td>\n",
       "      <td>0.500000</td>\n",
       "      <td>0.500000</td>\n",
       "      <td>0.500000</td>\n",
       "      <td>0.500000</td>\n",
       "      <td>0.000000</td>\n",
       "      <td>110</td>\n",
       "    </tr>\n",
       "    <tr>\n",
       "      <th>122</th>\n",
       "      <td>1.314351</td>\n",
       "      <td>0.038795</td>\n",
       "      <td>0.004358</td>\n",
       "      <td>0.001401</td>\n",
       "      <td>0.7</td>\n",
       "      <td>900</td>\n",
       "      <td>4</td>\n",
       "      <td>3</td>\n",
       "      <td>1</td>\n",
       "      <td>log_loss</td>\n",
       "      <td>0.01</td>\n",
       "      <td>{'subsample': 0.7, 'n_estimators': 900, 'min_s...</td>\n",
       "      <td>0.500000</td>\n",
       "      <td>0.500000</td>\n",
       "      <td>0.500000</td>\n",
       "      <td>0.500000</td>\n",
       "      <td>0.500000</td>\n",
       "      <td>0.500000</td>\n",
       "      <td>0.000000</td>\n",
       "      <td>110</td>\n",
       "    </tr>\n",
       "  </tbody>\n",
       "</table>\n",
       "<p>200 rows × 20 columns</p>\n",
       "</div>"
      ],
      "text/plain": [
       "     mean_fit_time  std_fit_time  mean_score_time  std_score_time  \\\n",
       "141       0.483559      0.007527         0.003041        0.000983   \n",
       "171       0.259781      0.008304         0.002534        0.000820   \n",
       "76        0.319201      0.009497         0.002839        0.001371   \n",
       "23        0.217376      0.005669         0.004424        0.001768   \n",
       "66        1.416708      0.026216         0.003266        0.000058   \n",
       "..             ...           ...              ...             ...   \n",
       "117       2.750643      0.032318         0.002594        0.000586   \n",
       "115       1.461004      0.030396         0.002317        0.000897   \n",
       "25        1.743611      0.051331         0.003645        0.003131   \n",
       "57        2.047708      0.017836         0.002278        0.001080   \n",
       "122       1.314351      0.038795         0.004358        0.001401   \n",
       "\n",
       "    param_subsample param_n_estimators param_min_samples_split  \\\n",
       "141             0.8                300                       9   \n",
       "171             0.7                100                       4   \n",
       "76              0.8                200                       3   \n",
       "23              0.8                100                       6   \n",
       "66              1.0                900                       3   \n",
       "..              ...                ...                     ...   \n",
       "117             1.0                900                       9   \n",
       "115             1.0                200                       2   \n",
       "25              0.7                400                       4   \n",
       "57              0.9                800                       8   \n",
       "122             0.7                900                       4   \n",
       "\n",
       "    param_min_samples_leaf param_max_depth   param_loss param_ccp_alpha  \\\n",
       "141                      3               1     log_loss             0.0   \n",
       "171                      1               2  exponential             0.0   \n",
       "76                       3               1  exponential             0.0   \n",
       "23                       3               2     log_loss             0.0   \n",
       "66                       1               1     log_loss             0.0   \n",
       "..                     ...             ...          ...             ...   \n",
       "117                      3               2     log_loss            0.01   \n",
       "115                      4               5     log_loss            0.04   \n",
       "25                       3               5     log_loss            0.02   \n",
       "57                       2               2     log_loss            0.02   \n",
       "122                      3               1     log_loss            0.01   \n",
       "\n",
       "                                                params  split0_test_score  \\\n",
       "141  {'subsample': 0.7999999999999999, 'n_estimator...           0.732562   \n",
       "171  {'subsample': 0.7, 'n_estimators': 100, 'min_s...           0.719275   \n",
       "76   {'subsample': 0.7999999999999999, 'n_estimator...           0.710229   \n",
       "23   {'subsample': 0.7999999999999999, 'n_estimator...           0.719927   \n",
       "66   {'subsample': 0.9999999999999999, 'n_estimator...           0.705287   \n",
       "..                                                 ...                ...   \n",
       "117  {'subsample': 0.9999999999999999, 'n_estimator...           0.500000   \n",
       "115  {'subsample': 0.9999999999999999, 'n_estimator...           0.500000   \n",
       "25   {'subsample': 0.7, 'n_estimators': 400, 'min_s...           0.500000   \n",
       "57   {'subsample': 0.8999999999999999, 'n_estimator...           0.500000   \n",
       "122  {'subsample': 0.7, 'n_estimators': 900, 'min_s...           0.500000   \n",
       "\n",
       "     split1_test_score  split2_test_score  split3_test_score  \\\n",
       "141           0.691906           0.659008           0.666745   \n",
       "171           0.694802           0.670259           0.682779   \n",
       "76            0.708189           0.657916           0.659639   \n",
       "23            0.689912           0.667458           0.680909   \n",
       "66            0.700973           0.671825           0.661042   \n",
       "..                 ...                ...                ...   \n",
       "117           0.500000           0.500000           0.500000   \n",
       "115           0.500000           0.500000           0.500000   \n",
       "25            0.500000           0.500000           0.500000   \n",
       "57            0.500000           0.500000           0.500000   \n",
       "122           0.500000           0.500000           0.500000   \n",
       "\n",
       "     split4_test_score  mean_test_score  std_test_score  rank_test_score  \n",
       "141           0.697130         0.689470        0.025946                1  \n",
       "171           0.666932         0.686809        0.018990                2  \n",
       "76            0.696382         0.686471        0.023107                3  \n",
       "23            0.671793         0.686000        0.018644                4  \n",
       "66            0.688295         0.685484        0.016876                5  \n",
       "..                 ...              ...             ...              ...  \n",
       "117           0.500000         0.500000        0.000000              110  \n",
       "115           0.500000         0.500000        0.000000              110  \n",
       "25            0.500000         0.500000        0.000000              110  \n",
       "57            0.500000         0.500000        0.000000              110  \n",
       "122           0.500000         0.500000        0.000000              110  \n",
       "\n",
       "[200 rows x 20 columns]"
      ]
     },
     "execution_count": 14,
     "metadata": {},
     "output_type": "execute_result"
    }
   ],
   "source": [
    "pd.DataFrame(cv.cv_results_).sort_values('rank_test_score')"
   ]
  },
  {
   "cell_type": "code",
   "execution_count": 119,
   "id": "4cbc4fdd",
   "metadata": {},
   "outputs": [
    {
     "data": {
      "text/plain": [
       "{'age_at_hire': 0.08574331880861022,\n",
       " 'compared_to_others_detail': 0.05772895051169023,\n",
       " 'compared_to_others_handles_stress': 0.050877131305629854,\n",
       " 'compared_to_others_intelligence': 0.05054606434899463,\n",
       " 'is_manager': 0.048999687929534096,\n",
       " 'compared_to_others_enjoyable': 0.048365794189481046,\n",
       " 'strengths_working_within_a_team': 0.04613296751185988,\n",
       " 'compared_to_others_willingness_to_go_above_and_beyond_for_the_job': 0.04143311510174169,\n",
       " 'compared_to_others_takes_feedback': 0.039001896583069,\n",
       " 'ethnicity_Black/African American': 0.03588845535620228,\n",
       " 'compared_to_others_work_quality': 0.035571745229549076,\n",
       " 'compared_to_others_optimistim': 0.03494916836672122,\n",
       " 'compared_to_others_communication_skills': 0.034654465232765816,\n",
       " 'ethnicity_Other': 0.024334905481375173,\n",
       " 'was_referral': 0.02404295667953608,\n",
       " 'strengths_coachability': 0.02025179960929138,\n",
       " 'strengths_patience': 0.01899776473891962,\n",
       " 'ethnicity_Hispanic/Latinx': 0.018931370000236182,\n",
       " 'gender_undisclosed': 0.018771770284097506,\n",
       " 'strengths_self_motivation': 0.018177948140422583,\n",
       " 'weakness_presentation_skills': 0.017523718677212377,\n",
       " 'weakness_creative_thinking': 0.016353449554866804,\n",
       " 'has_graduate_degree': 0.015933622960917354,\n",
       " 'weakness_project_management': 0.01431289057253215,\n",
       " 'strengths_written_communications': 0.013903603338370332,\n",
       " 'weakness_delegating': 0.012920374349838726,\n",
       " 'ethnicity_White/Caucasian': 0.011931194407762549,\n",
       " 'strengths_versatile': 0.011285033159525866,\n",
       " 'strengths_humility': 0.011129634648114475,\n",
       " 'strengths_time_management': 0.010892727969396864,\n",
       " 'weakness_conflict_management': 0.010702954035034008,\n",
       " 'strengths_listening_to_others': 0.009550430643709357,\n",
       " 'weakness_written_communications': 0.009066263545617745,\n",
       " 'weakness_leading_others': 0.008521251966477945,\n",
       " 'strengths_resourceful': 0.007680983394979095,\n",
       " 'gender_male': 0.00732189444408864,\n",
       " 'strengths_enthusiasm': 0.007118544396750899,\n",
       " 'crosschq_references_fraud': 0.006941734394253388,\n",
       " 'strengths_creative_thinking': 0.006482378483710634,\n",
       " 'strengths_presentation_skills': 0.006426312615562793,\n",
       " 'strengths_leading_others': 0.006003862051979596,\n",
       " 'weakness_patience': 0.005930617272351264,\n",
       " 'strengths_conflict_management': 0.0058827678112167705,\n",
       " 'strengths_adaptability': 0.005016286496182092,\n",
       " 'strengths_project_management': 0.0038970313187905825,\n",
       " 'weakness_time_management': 0.003869162081030461}"
      ]
     },
     "execution_count": 119,
     "metadata": {},
     "output_type": "execute_result"
    }
   ],
   "source": [
    "var_imp = {k: v for k, v in zip(cv.best_estimator_.feature_names_in_, cv.best_estimator_.feature_importances_)}\n",
    "var_imp = {k: v for k, v in sorted(var_imp.items(), key=lambda item: -item[1])}\n",
    "\n",
    "var_imp\n"
   ]
  },
  {
   "cell_type": "code",
   "execution_count": 82,
   "id": "c2535a69",
   "metadata": {},
   "outputs": [
    {
     "data": {
      "text/plain": [
       "0.7473363774733638"
      ]
     },
     "execution_count": 82,
     "metadata": {},
     "output_type": "execute_result"
    }
   ],
   "source": [
    "1 - y_train.mean()"
   ]
  },
  {
   "cell_type": "code",
   "execution_count": 84,
   "id": "26d61f27",
   "metadata": {},
   "outputs": [
    {
     "data": {
      "text/plain": [
       "0.7993920972644377"
      ]
     },
     "execution_count": 84,
     "metadata": {},
     "output_type": "execute_result"
    }
   ],
   "source": [
    "1 - y_test.mean()"
   ]
  },
  {
   "cell_type": "code",
   "execution_count": null,
   "id": "f2f3e4cb",
   "metadata": {},
   "outputs": [],
   "source": []
  },
  {
   "cell_type": "code",
   "execution_count": 15,
   "id": "d2505998",
   "metadata": {},
   "outputs": [
    {
     "name": "stdout",
     "output_type": "stream",
     "text": [
      "train score: 0.8836147877681424 \n",
      " test score: 0.8759124087591241\n"
     ]
    },
    {
     "data": {
      "text/plain": [
       "array([[1900,  242],\n",
       "       [  13,   36]])"
      ]
     },
     "execution_count": 15,
     "metadata": {},
     "output_type": "execute_result"
    }
   ],
   "source": [
    "best_clf = cv.best_estimator_\n",
    "\n",
    "print(\n",
    "    'train score:', best_clf.score(X_train, y_train), '\\n',\n",
    "    'test score:', best_clf.score(X_test, y_test),\n",
    ")\n",
    "\n",
    "confusion_matrix(best_clf.predict(X_train), y_train)"
   ]
  },
  {
   "cell_type": "code",
   "execution_count": 17,
   "id": "96369b88",
   "metadata": {
    "scrolled": false
   },
   "outputs": [
    {
     "name": "stderr",
     "output_type": "stream",
     "text": [
      "/opt/homebrew/Caskroom/miniforge/base/envs/assignment_1/lib/python3.10/site-packages/sklearn/utils/deprecation.py:87: FutureWarning: Function plot_roc_curve is deprecated; Function :func:`plot_roc_curve` is deprecated in 1.0 and will be removed in 1.2. Use one of the class methods: :meth:`sklearn.metrics.RocCurveDisplay.from_predictions` or :meth:`sklearn.metrics.RocCurveDisplay.from_estimator`.\n",
      "  warnings.warn(msg, category=FutureWarning)\n"
     ]
    },
    {
     "data": {
      "text/plain": [
       "<sklearn.metrics._plot.roc_curve.RocCurveDisplay at 0x13ff7bf40>"
      ]
     },
     "execution_count": 17,
     "metadata": {},
     "output_type": "execute_result"
    },
    {
     "data": {
      "image/png": "[encoded data removed]",
      "text/plain": [
       "<Figure size 640x480 with 1 Axes>"
      ]
     },
     "metadata": {},
     "output_type": "display_data"
    }
   ],
   "source": [
    "plot_roc_curve(best_clf, X_train, y_train)"
   ]
  },
  {
   "cell_type": "code",
   "execution_count": 18,
   "id": "9744e909",
   "metadata": {},
   "outputs": [
    {
     "name": "stderr",
     "output_type": "stream",
     "text": [
      "/opt/homebrew/Caskroom/miniforge/base/envs/assignment_1/lib/python3.10/site-packages/sklearn/utils/deprecation.py:87: FutureWarning: Function plot_roc_curve is deprecated; Function :func:`plot_roc_curve` is deprecated in 1.0 and will be removed in 1.2. Use one of the class methods: :meth:`sklearn.metrics.RocCurveDisplay.from_predictions` or :meth:`sklearn.metrics.RocCurveDisplay.from_estimator`.\n",
      "  warnings.warn(msg, category=FutureWarning)\n"
     ]
    },
    {
     "data": {
      "text/plain": [
       "<sklearn.metrics._plot.roc_curve.RocCurveDisplay at 0x148976fb0>"
      ]
     },
     "execution_count": 18,
     "metadata": {},
     "output_type": "execute_result"
    },
    {
     "data": {
      "image/png": "[encoded data removed]",
      "text/plain": [
       "<Figure size 640x480 with 1 Axes>"
      ]
     },
     "metadata": {},
     "output_type": "display_data"
    }
   ],
   "source": [
    "plot_roc_curve(best_clf, X_test, y_test)"
   ]
  },
  {
   "cell_type": "code",
   "execution_count": null,
   "id": "7795fd33",
   "metadata": {},
   "outputs": [],
   "source": []
  }
 ],
 "metadata": {
  "kernelspec": {
   "display_name": "Python 3 (ipykernel)",
   "language": "python",
   "name": "python3"
  },
  "language_info": {
   "codemirror_mode": {
    "name": "ipython",
    "version": 3
   },
   "file_extension": ".py",
   "mimetype": "text/x-python",
   "name": "python",
   "nbconvert_exporter": "python",
   "pygments_lexer": "ipython3",
   "version": "3.10.6"
  }
 },
 "nbformat": 4,
 "nbformat_minor": 5
}
