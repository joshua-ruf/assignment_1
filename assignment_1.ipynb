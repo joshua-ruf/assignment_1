{
 "cells": [
  {
   "cell_type": "code",
   "execution_count": 1,
   "id": "df66261f",
   "metadata": {},
   "outputs": [],
   "source": [
    "import pandas as pd\n",
    "import numpy as np\n",
    "import matplotlib.pyplot as plt\n",
    "import seaborn as sns\n",
    "\n",
    "from sklearn.model_selection import train_test_split, RandomizedSearchCV\n",
    "from sklearn.tree import DecisionTreeClassifier\n",
    "from sklearn.preprocessing import MinMaxScaler\n",
    "from sklearn.decomposition import PCA\n",
    "from sklearn.metrics import confusion_matrix, plot_roc_curve\n"
   ]
  },
  {
   "cell_type": "code",
   "execution_count": 282,
   "id": "dc42871e",
   "metadata": {},
   "outputs": [],
   "source": [
    "df = pd.read_csv('../20220911_data.csv')\n",
    "df.drop(columns=['hire_date'], inplace=True)\n",
    "for var in ('gender', 'ethnicity'):\n",
    "    temp = pd.get_dummies(df[var], prefix=var, drop_first=True)\n",
    "    df.drop(columns=[var], inplace=True)\n",
    "    df = df.join(temp)\n",
    "    "
   ]
  },
  {
   "cell_type": "code",
   "execution_count": null,
   "id": "2f55a8be",
   "metadata": {},
   "outputs": [],
   "source": []
  },
  {
   "cell_type": "code",
   "execution_count": 283,
   "id": "4d746fc1",
   "metadata": {},
   "outputs": [],
   "source": [
    "y = df['terminated_in_first_year']\n",
    "X = df.drop(columns=['terminated_in_first_year'])\n"
   ]
  },
  {
   "cell_type": "code",
   "execution_count": 284,
   "id": "44be28f2",
   "metadata": {},
   "outputs": [],
   "source": [
    "cols = X.columns.str.contains('strengths|weakness|compared_to_others')\n",
    "\n",
    "crosschq_vars = X.iloc[:, cols].values\n",
    "crosschq_vars = MinMaxScaler().fit_transform(crosschq_vars)\n",
    "\n",
    "pca = PCA(n_components=crosschq_vars.shape[1])\n",
    "pca.fit(crosschq_vars)\n",
    "\n",
    "var_explained = pca.explained_variance_ratio_.cumsum()\n",
    "\n",
    "components = np.argmax(var_explained >= 0.75)\n",
    "\n",
    "pca75 = PCA(components)\n",
    "crosschq_vars75 = pca75.fit_transform(crosschq_vars)\n",
    "\n",
    "X = X.iloc[:, ~cols]\n",
    "crosschq_vars75 = pd.DataFrame(crosschq_vars75)\n",
    "crosschq_vars75.columns = [f'pcomponent_{i}' for i in crosschq_vars75.columns]\n",
    "X = X.join(crosschq_vars75)\n",
    "\n",
    "X_train, X_test, y_train, y_test = train_test_split(X, y, random_state=0, test_size=0.2)\n"
   ]
  },
  {
   "cell_type": "code",
   "execution_count": null,
   "id": "483e3da9",
   "metadata": {},
   "outputs": [],
   "source": [
    "#####################\n",
    "### DECISION TREE ###\n",
    "#####################"
   ]
  },
  {
   "cell_type": "code",
   "execution_count": null,
   "id": "e59363be",
   "metadata": {},
   "outputs": [],
   "source": [
    "# https://scikit-learn.org/stable/modules/tree.html#minimal-cost-complexity-pruning\n",
    "clf = DecisionTreeClassifier(criterion='entropy', random_state=0)\n",
    "clf.fit(X_train, y_train)\n",
    "\n",
    "# clf.score(X_train, y_train)"
   ]
  },
  {
   "cell_type": "code",
   "execution_count": null,
   "id": "14e8845c",
   "metadata": {},
   "outputs": [],
   "source": [
    "# https://scikit-learn.org/stable/auto_examples/tree/plot_cost_complexity_pruning.html\n",
    "path = clf.cost_complexity_pruning_path(X_train, y_train)\n",
    "path = pd.DataFrame(path)\n",
    "\n",
    "sns.lineplot(path, x = 'ccp_alphas', y='impurities')"
   ]
  },
  {
   "cell_type": "code",
   "execution_count": null,
   "id": "051ff9b6",
   "metadata": {},
   "outputs": [],
   "source": []
  },
  {
   "cell_type": "code",
   "execution_count": null,
   "id": "bcc8d2ed",
   "metadata": {},
   "outputs": [],
   "source": [
    "parameters = {\n",
    "    'criterion': ('entropy', 'gini'),\n",
    "    'splitter': ('best', 'random'),\n",
    "    'ccp_alpha': np.arange(0, 0.04, 0.001),\n",
    "    'class_weight': ('balanced', None),\n",
    "#     'max_depth': np.arange(5, 30, 1),\n",
    "#     'min_samples_split': np.arange(2, 10, 1),\n",
    "#     'min_samples_leaf': np.arange(1, 5, 1),\n",
    "}\n",
    "\n",
    "clf = DecisionTreeClassifier(random_state=0)\n",
    "cv = RandomizedSearchCV(clf, parameters, n_iter=150)\n",
    "cv.fit(X_train, y_train)\n"
   ]
  },
  {
   "cell_type": "code",
   "execution_count": null,
   "id": "487df54d",
   "metadata": {},
   "outputs": [],
   "source": []
  },
  {
   "cell_type": "code",
   "execution_count": null,
   "id": "213ec1d2",
   "metadata": {},
   "outputs": [],
   "source": [
    "cv_results = pd.DataFrame(cv.cv_results_)\n",
    "cv_results.loc[cv_results.param_class_weight != 'balanced', 'param_class_weight'] = 'None'\n",
    "\n",
    "print(cv.best_params_, cv.best_score_)\n",
    "\n",
    "best_clf = cv.best_estimator_\n",
    "\n",
    "sns.lineplot(\n",
    "    cv_results[cv_results.param_class_weight == 'None'],\n",
    "    x='param_ccp_alpha', \n",
    "    y='mean_test_score',\n",
    "    hue='param_criterion',\n",
    ")\n"
   ]
  },
  {
   "cell_type": "code",
   "execution_count": null,
   "id": "d2505998",
   "metadata": {},
   "outputs": [],
   "source": [
    "print(\n",
    "    'train score:', best_clf.score(X_train, y_train), '||',\n",
    "    'test score:', best_clf.score(X_test, y_test),\n",
    ")\n",
    "\n",
    "confusion_matrix(best_clf.predict(X_train), y_train)"
   ]
  },
  {
   "cell_type": "code",
   "execution_count": null,
   "id": "96369b88",
   "metadata": {},
   "outputs": [],
   "source": [
    "plot_roc_curve(best_clf, X_train, y_train)"
   ]
  }
 ],
 "metadata": {
  "kernelspec": {
   "display_name": "Python 3 (ipykernel)",
   "language": "python",
   "name": "python3"
  },
  "language_info": {
   "codemirror_mode": {
    "name": "ipython",
    "version": 3
   },
   "file_extension": ".py",
   "mimetype": "text/x-python",
   "name": "python",
   "nbconvert_exporter": "python",
   "pygments_lexer": "ipython3",
   "version": "3.10.6"
  }
 },
 "nbformat": 4,
 "nbformat_minor": 5
}
