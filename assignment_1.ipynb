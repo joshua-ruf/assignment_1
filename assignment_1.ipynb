{
 "cells": [
  {
   "cell_type": "code",
   "execution_count": 1,
   "id": "df66261f",
   "metadata": {},
   "outputs": [],
   "source": [
    "import pandas as pd\n",
    "import numpy as np\n",
    "import matplotlib.pyplot as plt\n",
    "import seaborn as sns\n",
    "\n",
    "from sklearn.model_selection import train_test_split, RandomizedSearchCV\n",
    "from sklearn.tree import DecisionTreeClassifier\n",
    "from sklearn.preprocessing import MinMaxScaler\n",
    "from sklearn.decomposition import PCA\n",
    "from sklearn.metrics import confusion_matrix, plot_roc_curve\n"
   ]
  },
  {
   "cell_type": "code",
   "execution_count": 2,
   "id": "dc42871e",
   "metadata": {},
   "outputs": [],
   "source": [
    "df = pd.read_csv('../20220911_data.csv')\n",
    "df.drop(columns=['hire_date'], inplace=True)\n",
    "for var in ('gender', 'ethnicity'):\n",
    "    temp = pd.get_dummies(df[var], prefix=var, drop_first=True)\n",
    "    df.drop(columns=[var], inplace=True)\n",
    "    df = df.join(temp)\n",
    "    "
   ]
  },
  {
   "cell_type": "code",
   "execution_count": null,
   "id": "2f55a8be",
   "metadata": {},
   "outputs": [],
   "source": []
  },
  {
   "cell_type": "code",
   "execution_count": 40,
   "id": "4d746fc1",
   "metadata": {},
   "outputs": [],
   "source": [
    "y = df['terminated_in_first_year']\n",
    "X = df.drop(columns=['terminated_in_first_year'])\n"
   ]
  },
  {
   "cell_type": "code",
   "execution_count": 4,
   "id": "44be28f2",
   "metadata": {},
   "outputs": [],
   "source": [
    "cols = X.columns.str.contains('strengths|weakness|compared_to_others')\n",
    "\n",
    "# TODO: scale to 0-1\n",
    "crosschq_vars = X.iloc[:, cols].values\n",
    "crosschq_vars = MinMaxScaler().fit_transform(crosschq_vars)\n",
    "\n",
    "pca = PCA(n_components=crosschq_vars.shape[1])\n",
    "pca.fit(crosschq_vars)\n",
    "\n",
    "var_explained = pca.explained_variance_ratio_.cumsum()\n",
    "\n",
    "components = np.argmax(var_explained >= 0.75)\n",
    "\n",
    "pca75 = PCA(components)\n",
    "crosschq_vars75 = pca75.fit_transform(crosschq_vars)\n",
    "\n",
    "X = X.iloc[:, ~cols]\n",
    "crosschq_vars75 = pd.DataFrame(crosschq_vars75)\n",
    "crosschq_vars75.columns = [f'pcomponent_{i}' for i in crosschq_vars75.columns]\n",
    "X = X.join(crosschq_vars75)\n",
    "\n",
    "X_train, X_test, y_train, y_test = train_test_split(X, y, random_state=0, test_size=0.2)\n"
   ]
  },
  {
   "cell_type": "code",
   "execution_count": null,
   "id": "483e3da9",
   "metadata": {},
   "outputs": [],
   "source": [
    "#####################\n",
    "### DECISION TREE ###\n",
    "#####################"
   ]
  },
  {
   "cell_type": "code",
   "execution_count": null,
   "id": "e59363be",
   "metadata": {},
   "outputs": [],
   "source": [
    "# https://scikit-learn.org/stable/modules/tree.html#minimal-cost-complexity-pruning\n",
    "clf = DecisionTreeClassifier(criterion='entropy', random_state=0)\n",
    "clf.fit(X_train, y_train)\n",
    "\n",
    "# clf.score(X_train, y_train)"
   ]
  },
  {
   "cell_type": "code",
   "execution_count": null,
   "id": "14e8845c",
   "metadata": {},
   "outputs": [],
   "source": [
    "# https://scikit-learn.org/stable/auto_examples/tree/plot_cost_complexity_pruning.html\n",
    "path = clf.cost_complexity_pruning_path(X_train, y_train)\n",
    "path = pd.DataFrame(path)\n",
    "\n",
    "sns.lineplot(path, x = 'ccp_alphas', y='impurities')"
   ]
  },
  {
   "cell_type": "code",
   "execution_count": null,
   "id": "051ff9b6",
   "metadata": {},
   "outputs": [],
   "source": []
  },
  {
   "cell_type": "code",
   "execution_count": null,
   "id": "bcc8d2ed",
   "metadata": {},
   "outputs": [],
   "source": [
    "parameters = {\n",
    "    'criterion': ('entropy', 'gini'),\n",
    "    'splitter': ('best', 'random'),\n",
    "    'ccp_alpha': np.arange(0, 0.04, 0.001),\n",
    "    'class_weight': ('balanced', None),\n",
    "#     'max_depth': np.arange(5, 30, 1),\n",
    "#     'min_samples_split': np.arange(2, 10, 1),\n",
    "#     'min_samples_leaf': np.arange(1, 5, 1),\n",
    "}\n",
    "\n",
    "clf = DecisionTreeClassifier(random_state=0)\n",
    "cv = RandomizedSearchCV(clf, parameters, n_iter=150)\n",
    "cv.fit(X_train, y_train)\n"
   ]
  },
  {
   "cell_type": "code",
   "execution_count": null,
   "id": "487df54d",
   "metadata": {},
   "outputs": [],
   "source": []
  },
  {
   "cell_type": "code",
   "execution_count": null,
   "id": "213ec1d2",
   "metadata": {},
   "outputs": [],
   "source": [
    "cv_results = pd.DataFrame(cv.cv_results_)\n",
    "cv_results.loc[cv_results.param_class_weight != 'balanced', 'param_class_weight'] = 'None'\n",
    "\n",
    "print(cv.best_params_, cv.best_score_)\n",
    "\n",
    "best_clf = cv.best_estimator_\n",
    "\n",
    "sns.lineplot(\n",
    "    cv_results[cv_results.param_class_weight == 'None'],\n",
    "    x='param_ccp_alpha', \n",
    "    y='mean_test_score',\n",
    "    hue='param_criterion',\n",
    ")\n"
   ]
  },
  {
   "cell_type": "code",
   "execution_count": null,
   "id": "d2505998",
   "metadata": {},
   "outputs": [],
   "source": [
    "print(\n",
    "    'train score:', best_clf.score(X_train, y_train), '||',\n",
    "    'test score:', best_clf.score(X_test, y_test),\n",
    ")\n",
    "\n",
    "confusion_matrix(best_clf.predict(X_train), y_train)"
   ]
  },
  {
   "cell_type": "code",
   "execution_count": null,
   "id": "96369b88",
   "metadata": {},
   "outputs": [],
   "source": [
    "plot_roc_curve(best_clf, X_train, y_train)"
   ]
  },
  {
   "cell_type": "code",
   "execution_count": null,
   "id": "39d9caac",
   "metadata": {},
   "outputs": [],
   "source": [
    "######################\n",
    "### NEURAL NETWORK ###\n",
    "######################"
   ]
  },
  {
   "cell_type": "code",
   "execution_count": 5,
   "id": "65e393c2",
   "metadata": {},
   "outputs": [],
   "source": [
    "import torch\n",
    "from torch import nn\n",
    "from torch.utils.data import DataLoader, TensorDataset\n",
    "\n",
    "# https://pytorch.org/tutorials/beginner/basics/quickstart_tutorial.html\n",
    "# https://pytorch.org/docs/stable/generated/torch.nn.CrossEntropyLoss.html#torch.nn.CrossEntropyLoss"
   ]
  },
  {
   "cell_type": "code",
   "execution_count": 6,
   "id": "e3133171",
   "metadata": {},
   "outputs": [],
   "source": [
    "X_train2 = torch.tensor(X_train.astype(np.float32).values)\n",
    "X_train2 = X_train2.type(torch.FloatTensor)\n",
    "\n",
    "y_train2 = torch.tensor(y_train.astype(np.float32).values).reshape(-1)\n",
    "y_train2 = y_train2.type(torch.FloatTensor)\n",
    "\n",
    "X_test2 = torch.tensor(X_test.astype(np.float32).values)\n",
    "X_test2 = X_test2.type(torch.FloatTensor)\n",
    "\n",
    "y_test2 = torch.tensor(y_test.astype(np.float32).values).reshape(-1)\n",
    "y_test2 = y_test2.type(torch.FloatTensor)\n"
   ]
  },
  {
   "cell_type": "code",
   "execution_count": null,
   "id": "593e131c",
   "metadata": {},
   "outputs": [],
   "source": []
  },
  {
   "cell_type": "code",
   "execution_count": 7,
   "id": "d8d53bfc",
   "metadata": {},
   "outputs": [
    {
     "name": "stdout",
     "output_type": "stream",
     "text": [
      "Shape of X: torch.Size([16, 27])\n",
      "Shape of y: torch.Size([16])\n"
     ]
    }
   ],
   "source": [
    "\n",
    "batch_size = 16\n",
    "# Create data loaders.\n",
    "train_dataloader = DataLoader(\n",
    "    TensorDataset(X_train2, y_train2),\n",
    "    batch_size=batch_size,\n",
    ")\n",
    "test_dataloader = DataLoader(\n",
    "    TensorDataset(X_test2, y_test2),\n",
    "    batch_size=batch_size,\n",
    ")\n",
    "\n",
    "for X, y in train_dataloader:\n",
    "    print(f\"Shape of X: {X.shape}\")\n",
    "    print(f\"Shape of y: {y.shape}\")\n",
    "    break\n",
    "    "
   ]
  },
  {
   "cell_type": "code",
   "execution_count": 29,
   "id": "41382a35",
   "metadata": {},
   "outputs": [
    {
     "name": "stdout",
     "output_type": "stream",
     "text": [
      "Using cpu device\n",
      "NeuralNetwork(\n",
      "  (flatten): Flatten(start_dim=1, end_dim=-1)\n",
      "  (linear_stack): Sequential(\n",
      "    (0): Linear(in_features=27, out_features=32, bias=True)\n",
      "    (1): Sigmoid()\n",
      "    (2): Linear(in_features=32, out_features=32, bias=True)\n",
      "    (3): Sigmoid()\n",
      "    (4): Linear(in_features=32, out_features=2, bias=True)\n",
      "  )\n",
      ")\n"
     ]
    }
   ],
   "source": [
    "# Get cpu or gpu device for training.\n",
    "device = \"cuda\" if torch.cuda.is_available() else \"cpu\"\n",
    "print(f\"Using {device} device\")\n",
    "\n",
    "# Define model\n",
    "class NeuralNetwork(nn.Module):\n",
    "    def __init__(self):\n",
    "        super(NeuralNetwork, self).__init__()\n",
    "        self.flatten = nn.Flatten()\n",
    "        self.linear_stack = nn.Sequential(\n",
    "            nn.Linear(X.shape[1], 32),\n",
    "            nn.Sigmoid(),\n",
    "            nn.Linear(32, 32),\n",
    "            nn.Sigmoid(),\n",
    "            nn.Linear(32, 2),\n",
    "#             nn.Sigmoid(),\n",
    "        )\n",
    "\n",
    "    def forward(self, x):\n",
    "#         x = self.flatten(x)\n",
    "        logits = self.linear_stack(x)\n",
    "        return logits\n",
    "\n",
    "model = NeuralNetwork().to(device)\n",
    "print(model)"
   ]
  },
  {
   "cell_type": "code",
   "execution_count": null,
   "id": "7122844b",
   "metadata": {},
   "outputs": [],
   "source": []
  },
  {
   "cell_type": "code",
   "execution_count": 30,
   "id": "3567a446",
   "metadata": {},
   "outputs": [],
   "source": [
    "loss_fn = nn.CrossEntropyLoss()  # need to weight the classes because they're imbalanced\n",
    "# loss_fn = nn.NLLLoss()\n",
    "optimizer = torch.optim.SGD(model.parameters(), lr=1e-3)"
   ]
  },
  {
   "cell_type": "code",
   "execution_count": null,
   "id": "2fb9e18c",
   "metadata": {},
   "outputs": [],
   "source": []
  },
  {
   "cell_type": "code",
   "execution_count": null,
   "id": "3b8911a5",
   "metadata": {},
   "outputs": [],
   "source": []
  },
  {
   "cell_type": "code",
   "execution_count": 31,
   "id": "9bca249d",
   "metadata": {},
   "outputs": [],
   "source": [
    "def train(dataloader, model, loss_fn, optimizer):\n",
    "    size = len(dataloader.dataset)\n",
    "    model.train()\n",
    "    for batch, (X, y) in enumerate(dataloader):\n",
    "        X, y = X.to(device), y.to(device)\n",
    "\n",
    "        # Compute prediction error\n",
    "        pred = model(X)\n",
    "        loss = loss_fn(pred, y.type(torch.LongTensor))\n",
    "        \n",
    "        # Backpropagation\n",
    "        optimizer.zero_grad()\n",
    "        loss.backward()\n",
    "        optimizer.step()\n",
    "\n",
    "        if batch % 20 == 0:\n",
    "            loss, current = loss.item(), batch * len(X)\n",
    "            print(f\"loss: {loss:>7f}  [{current:>5d}/{size:>5d}]\")"
   ]
  },
  {
   "cell_type": "code",
   "execution_count": 35,
   "id": "98e1cf8e",
   "metadata": {},
   "outputs": [],
   "source": [
    "def test(dataloader, model, loss_fn):\n",
    "    size = len(dataloader.dataset)\n",
    "    num_batches = len(dataloader)\n",
    "    model.eval()\n",
    "    test_loss, correct = 0, 0\n",
    "    with torch.no_grad():\n",
    "        for X, y in dataloader:\n",
    "            X, y = X.to(device), y.to(device)\n",
    "            pred = model(X)\n",
    "            test_loss += loss_fn(pred, y.type(torch.LongTensor)).item()            \n",
    "            correct += (pred.argmax(1) == y).type(torch.float).sum().item()\n",
    "            \n",
    "    test_loss /= num_batches\n",
    "    correct /= size\n",
    "    print(f\"Test Error: \\n Accuracy: {(100*correct):>0.1f}%, Avg loss: {test_loss:>8f} \\n\")"
   ]
  },
  {
   "cell_type": "code",
   "execution_count": 36,
   "id": "95cd6fca",
   "metadata": {},
   "outputs": [
    {
     "name": "stdout",
     "output_type": "stream",
     "text": [
      "Epoch 1\n",
      "-------------------------------\n",
      "loss: -8.524261  [    0/ 1314]\n",
      "loss: -8.054328  [  320/ 1314]\n",
      "loss: -7.907360  [  640/ 1314]\n",
      "loss: -8.543731  [  960/ 1314]\n",
      "loss: -9.200107  [ 1280/ 1314]\n",
      "Test Error: \n",
      " Accuracy: 79.9%, Avg loss: -9.159607 \n",
      "\n",
      "Epoch 2\n",
      "-------------------------------\n",
      "loss: -9.640771  [    0/ 1314]\n",
      "loss: -9.091607  [  320/ 1314]\n",
      "loss: -8.911978  [  640/ 1314]\n",
      "loss: -9.618614  [  960/ 1314]\n",
      "loss: -10.347727  [ 1280/ 1314]\n",
      "Test Error: \n",
      " Accuracy: 79.9%, Avg loss: -10.300212 \n",
      "\n",
      "Epoch 3\n",
      "-------------------------------\n",
      "loss: -10.844272  [    0/ 1314]\n",
      "loss: -10.208310  [  320/ 1314]\n",
      "loss: -9.992373  [  640/ 1314]\n",
      "loss: -10.772678  [  960/ 1314]\n",
      "loss: -11.578225  [ 1280/ 1314]\n",
      "Test Error: \n",
      " Accuracy: 79.9%, Avg loss: -11.523029 \n",
      "\n",
      "Epoch 4\n",
      "-------------------------------\n",
      "loss: -12.134791  [    0/ 1314]\n",
      "loss: -11.403468  [  320/ 1314]\n",
      "loss: -11.147742  [  640/ 1314]\n",
      "loss: -12.005092  [  960/ 1314]\n",
      "loss: -12.891412  [ 1280/ 1314]\n",
      "Test Error: \n",
      " Accuracy: 79.9%, Avg loss: -12.827974 \n",
      "\n",
      "Epoch 5\n",
      "-------------------------------\n",
      "loss: -13.512142  [    0/ 1314]\n",
      "loss: -12.678585  [  320/ 1314]\n",
      "loss: -12.380596  [  640/ 1314]\n",
      "loss: -13.321911  [  960/ 1314]\n",
      "loss: -14.294901  [ 1280/ 1314]\n",
      "Test Error: \n",
      " Accuracy: 79.9%, Avg loss: -14.221847 \n",
      "\n",
      "Epoch 6\n",
      "-------------------------------\n",
      "loss: -14.982021  [    0/ 1314]\n",
      "loss: -14.040869  [  320/ 1314]\n",
      "loss: -13.693211  [  640/ 1314]\n",
      "loss: -14.721067  [  960/ 1314]\n",
      "loss: -15.777843  [ 1280/ 1314]\n",
      "Test Error: \n",
      " Accuracy: 79.9%, Avg loss: -15.693493 \n",
      "\n",
      "Epoch 7\n",
      "-------------------------------\n",
      "loss: -16.534073  [    0/ 1314]\n",
      "loss: -15.471879  [  320/ 1314]\n",
      "loss: -15.068052  [  640/ 1314]\n",
      "loss: -16.180515  [  960/ 1314]\n",
      "loss: -17.321823  [ 1280/ 1314]\n",
      "Test Error: \n",
      " Accuracy: 79.9%, Avg loss: -17.226702 \n",
      "\n",
      "Epoch 8\n",
      "-------------------------------\n",
      "loss: -18.151817  [    0/ 1314]\n",
      "loss: -16.959963  [  320/ 1314]\n",
      "loss: -16.496586  [  640/ 1314]\n",
      "loss: -17.693512  [  960/ 1314]\n",
      "loss: -18.920429  [ 1280/ 1314]\n",
      "Test Error: \n",
      " Accuracy: 79.9%, Avg loss: -18.814358 \n",
      "\n",
      "Epoch 9\n",
      "-------------------------------\n",
      "loss: -19.827095  [    0/ 1314]\n",
      "loss: -18.498743  [  320/ 1314]\n",
      "loss: -17.972145  [  640/ 1314]\n",
      "loss: -19.254316  [  960/ 1314]\n",
      "loss: -20.567692  [ 1280/ 1314]\n",
      "Test Error: \n",
      " Accuracy: 79.9%, Avg loss: -20.449918 \n",
      "\n",
      "Epoch 10\n",
      "-------------------------------\n",
      "loss: -21.552656  [    0/ 1314]\n",
      "loss: -20.082254  [  320/ 1314]\n",
      "loss: -19.488115  [  640/ 1314]\n",
      "loss: -20.855936  [  960/ 1314]\n",
      "loss: -22.255735  [ 1280/ 1314]\n",
      "Test Error: \n",
      " Accuracy: 79.9%, Avg loss: -22.125394 \n",
      "\n",
      "Done!\n"
     ]
    }
   ],
   "source": [
    "epochs = 10\n",
    "for t in range(epochs):\n",
    "    print(f\"Epoch {t+1}\\n-------------------------------\")\n",
    "    train(train_dataloader, model, loss_fn, optimizer)\n",
    "    test(test_dataloader, model, loss_fn)\n",
    "#     print((sum(model(X_test2).argmax(1) == y_test2)/len(y_test2)).item())\n",
    "print(\"Done!\")"
   ]
  },
  {
   "cell_type": "code",
   "execution_count": null,
   "id": "0f432516",
   "metadata": {},
   "outputs": [],
   "source": [
    "(sum(model(X_train2).argmax(1) == y_train2)/len(y_train2)).item()\n",
    "\n",
    "# loss_fn(model(X_train2), y_train2.type(torch.LongTensor))"
   ]
  },
  {
   "cell_type": "code",
   "execution_count": null,
   "id": "1b81a61e",
   "metadata": {},
   "outputs": [],
   "source": []
  },
  {
   "cell_type": "code",
   "execution_count": null,
   "id": "70b8e39e",
   "metadata": {},
   "outputs": [],
   "source": []
  },
  {
   "cell_type": "code",
   "execution_count": null,
   "id": "5f6a8ed8",
   "metadata": {},
   "outputs": [],
   "source": []
  }
 ],
 "metadata": {
  "kernelspec": {
   "display_name": "Python 3 (ipykernel)",
   "language": "python",
   "name": "python3"
  },
  "language_info": {
   "codemirror_mode": {
    "name": "ipython",
    "version": 3
   },
   "file_extension": ".py",
   "mimetype": "text/x-python",
   "name": "python",
   "nbconvert_exporter": "python",
   "pygments_lexer": "ipython3",
   "version": "3.10.6"
  }
 },
 "nbformat": 4,
 "nbformat_minor": 5
}
