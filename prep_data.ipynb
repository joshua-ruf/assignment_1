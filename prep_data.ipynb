{
 "cells": [
  {
   "cell_type": "code",
   "execution_count": 3,
   "id": "7c6c427c",
   "metadata": {},
   "outputs": [],
   "source": [
    "import pandas as pd\n",
    "from sklearn.preprocessing import MinMaxScaler\n",
    "from sklearn.decomposition import PCA\n",
    "\n",
    "FILE = '../20220918_data.csv'"
   ]
  },
  {
   "cell_type": "code",
   "execution_count": 4,
   "id": "9c9dc22b",
   "metadata": {},
   "outputs": [],
   "source": [
    "def load_data(file=FILE):\n",
    "    df = pd.read_csv(file)\n",
    "    df.drop(columns=['hire_date'], inplace=True)\n",
    "    for var in ('gender', 'ethnicity'):\n",
    "        temp = pd.get_dummies(df[var], prefix=var, drop_first=True)\n",
    "        df.drop(columns=[var], inplace=True)\n",
    "        df = df.join(temp)\n",
    "        \n",
    "    y = df['terminated_in_first_6_months']\n",
    "    X = df.drop(columns=['terminated_in_first_6_months'])\n",
    "    \n",
    "    return X, y"
   ]
  },
  {
   "cell_type": "code",
   "execution_count": null,
   "id": "d9d5898c",
   "metadata": {},
   "outputs": [],
   "source": [
    "def apply_pca(data, cols, prop_var_explained=0.75):\n",
    "    \n",
    "    D = data.copy()\n",
    "    \n",
    "    temp = D.iloc[:, cols].values\n",
    "    temp = MinMaxScaler().fit_transform(temp)\n",
    "\n",
    "    pca = PCA(n_components=temp.shape[1])\n",
    "    pca.fit(temp)\n",
    "\n",
    "    var_explained = pca.explained_variance_ratio_.cumsum()\n",
    "\n",
    "    components = np.argmax(var_explained >= prop_var_explained)\n",
    "\n",
    "    temp2 = PCA(components).fit_transform(temp)\n",
    "    temp2 = pd.DataFrame(temp2)\n",
    "    temp2.columns = [f'pcomponent_{i}' for i in temp2.columns]\n",
    "    \n",
    "    return D.iloc[:, ~cols].join(temp2)"
   ]
  }
 ],
 "metadata": {
  "jupytext": {
   "formats": "ipynb,auto:light"
  },
  "kernelspec": {
   "display_name": "Python 3 (ipykernel)",
   "language": "python",
   "name": "python3"
  },
  "language_info": {
   "codemirror_mode": {
    "name": "ipython",
    "version": 3
   },
   "file_extension": ".py",
   "mimetype": "text/x-python",
   "name": "python",
   "nbconvert_exporter": "python",
   "pygments_lexer": "ipython3",
   "version": "3.10.6"
  }
 },
 "nbformat": 4,
 "nbformat_minor": 5
}
